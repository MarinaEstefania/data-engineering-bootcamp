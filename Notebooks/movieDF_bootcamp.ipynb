{
  "nbformat": 4,
  "nbformat_minor": 0,
  "metadata": {
    "colab": {
      "name": "movieDF bootcamp.ipynb",
      "provenance": [],
      "collapsed_sections": [],
      "authorship_tag": "ABX9TyN8ISt1M5b/6fLIqzkQNqyL",
      "include_colab_link": true
    },
    "kernelspec": {
      "name": "python3",
      "display_name": "Python 3"
    },
    "language_info": {
      "name": "python"
    }
  },
  "cells": [
    {
      "cell_type": "markdown",
      "metadata": {
        "id": "view-in-github",
        "colab_type": "text"
      },
      "source": [
        "<a href=\"https://colab.research.google.com/github/MarinaEstefania/data-engineering-bootcamp/blob/main/Notebooks/movieDF_bootcamp.ipynb\" target=\"_parent\"><img src=\"https://colab.research.google.com/assets/colab-badge.svg\" alt=\"Open In Colab\"/></a>"
      ]
    },
    {
      "cell_type": "code",
      "execution_count": 16,
      "metadata": {
        "id": "cgHeQ-Dp2Vkv"
      },
      "outputs": [],
      "source": [
        "%%capture\n",
        "!sudo apt update\n",
        "!apt-get install openjdk-8-jdk-headless -qq > /dev/null\n",
        "!wget -q https://dlcdn.apache.org/spark/spark-3.2.2/spark-3.2.2-bin-hadoop3.2.tgz\n",
        "!tar xf spark-3.2.2-bin-hadoop3.2.tgz\n",
        "!pip install -q findspark\n",
        "!pip install pyspark\n",
        "!pip install Tokenizer\n",
        "\n",
        "import os\n",
        "os.environ[\"JAVA_HOME\"] = \"/usr/lib/jvm/java-8-openjdk-amd64\"\n",
        "os.environ[\"SPARK_HOME\"] = \"/content/spark-3.2.2-bin-hadoop3.2\"\n",
        "\n",
        "import findspark\n",
        "findspark.init()\n",
        "findspark.find()\n",
        "\n",
        "from pyspark.sql import DataFrame, SparkSession \n",
        "from pyspark.sql.functions import *\n",
        "from pyspark.ml.feature import Tokenizer, StopWordsRemover\n",
        "\n",
        "spark = SparkSession \\\n",
        "       .builder \\\n",
        "       .appName(\"Our First Spark example\") \\\n",
        "       .getOrCreate()\n",
        "\n",
        "spark"
      ]
    },
    {
      "cell_type": "code",
      "source": [
        "path = \"movie_review.csv\"\n",
        "df = (spark\n",
        "    .read\n",
        "    .option(\"header\", \"true\")\n",
        "    .option(\"inferSchema\", \"true\")\n",
        "    .csv(\"sample_data/movie_review.csv\"))"
      ],
      "metadata": {
        "id": "aTfTB3GP4ZRm"
      },
      "execution_count": 17,
      "outputs": []
    },
    {
      "cell_type": "code",
      "source": [
        "df.show(5)"
      ],
      "metadata": {
        "id": "15WvnNQsS5S1",
        "colab": {
          "base_uri": "https://localhost:8080/"
        },
        "outputId": "0338a6cc-9447-4e09-d139-b22bfa6fa98e"
      },
      "execution_count": 18,
      "outputs": [
        {
          "output_type": "stream",
          "name": "stdout",
          "text": [
            "+-----+--------------------+---------+\n",
            "|  cid|          review_str|id_review|\n",
            "+-----+--------------------+---------+\n",
            "|13756|Once again Mr. Co...|        1|\n",
            "|15738|This is an exampl...|        2|\n",
            "|15727|First of all I ha...|        3|\n",
            "|17954|Not even the Beat...|        4|\n",
            "|16579|Brass pictures (m...|        5|\n",
            "+-----+--------------------+---------+\n",
            "only showing top 5 rows\n",
            "\n"
          ]
        }
      ]
    },
    {
      "cell_type": "code",
      "source": [
        "#For the movie_review.csv file:\n",
        "#a. Work with the cid and review_str columns to get a list of words used by users.\n",
        "#Note: You can implement the pyspark.ml.feature.Tokenizer class to create a list of words named review_token.\n",
        "#sentenceDataFrame = dfMovie\n",
        "tokenizedDF = Tokenizer(inputCol=\"review_str\", outputCol=\"review_token\") \n",
        "wordsListDF = tokenizedDF.transform(df)\n",
        "wordsListDF.head()"
      ],
      "metadata": {
        "colab": {
          "base_uri": "https://localhost:8080/"
        },
        "id": "V0Da5_TO3FPe",
        "outputId": "2ba998ea-efe9-49b1-d183-45aa0d679969"
      },
      "execution_count": 27,
      "outputs": [
        {
          "output_type": "execute_result",
          "data": {
            "text/plain": [
              "Row(cid=13756, review_str=\"Once again Mr. Costner has dragged out a movie for far longer than necessary. Aside from the terrific sea rescue sequences, of which there are very few I just did not care about any of the characters. Most of us have ghosts in the closet, and Costner's character are realized early on, and then forgotten until much later, by which time I did not care. The character we should really care about is a very cocky, overconfident Ashton Kutcher. The problem is he comes off as kid who thinks he's better than anyone else around him and shows no signs of a cluttered closet. His only obstacle appears to be winning over Costner. Finally when we are well past the half way point of this stinker, Costner tells us all about Kutcher's ghosts. We are told why Kutcher is driven to be the best with no prior inkling or foreshadowing. No magic here, it was all I could do to keep from turning it off an hour in.\", id_review=1, review_token=['once', 'again', 'mr.', 'costner', 'has', 'dragged', 'out', 'a', 'movie', 'for', 'far', 'longer', 'than', 'necessary.', 'aside', 'from', 'the', 'terrific', 'sea', 'rescue', 'sequences,', 'of', 'which', 'there', 'are', 'very', 'few', 'i', 'just', 'did', 'not', 'care', 'about', 'any', 'of', 'the', 'characters.', 'most', 'of', 'us', 'have', 'ghosts', 'in', 'the', 'closet,', 'and', \"costner's\", 'character', 'are', 'realized', 'early', 'on,', 'and', 'then', 'forgotten', 'until', 'much', 'later,', 'by', 'which', 'time', 'i', 'did', 'not', 'care.', 'the', 'character', 'we', 'should', 'really', 'care', 'about', 'is', 'a', 'very', 'cocky,', 'overconfident', 'ashton', 'kutcher.', 'the', 'problem', 'is', 'he', 'comes', 'off', 'as', 'kid', 'who', 'thinks', \"he's\", 'better', 'than', 'anyone', 'else', 'around', 'him', 'and', 'shows', 'no', 'signs', 'of', 'a', 'cluttered', 'closet.', 'his', 'only', 'obstacle', 'appears', 'to', 'be', 'winning', 'over', 'costner.', 'finally', 'when', 'we', 'are', 'well', 'past', 'the', 'half', 'way', 'point', 'of', 'this', 'stinker,', 'costner', 'tells', 'us', 'all', 'about', \"kutcher's\", 'ghosts.', 'we', 'are', 'told', 'why', 'kutcher', 'is', 'driven', 'to', 'be', 'the', 'best', 'with', 'no', 'prior', 'inkling', 'or', 'foreshadowing.', 'no', 'magic', 'here,', 'it', 'was', 'all', 'i', 'could', 'do', 'to', 'keep', 'from', 'turning', 'it', 'off', 'an', 'hour', 'in.'])"
            ]
          },
          "metadata": {},
          "execution_count": 27
        }
      ]
    },
    {
      "cell_type": "code",
      "source": [
        "#Remove stop words if needed with pyspark.ml.feature.StopWordsRemover.\n",
        "listWOStop = StopWordsRemover(inputCol='review_token', outputCol='wo_stop_words')\n",
        "listWOStopRemoved = listWOStop.transform(wordsListDF)\n",
        "listWOStopRemoved.show(5)"
      ],
      "metadata": {
        "colab": {
          "base_uri": "https://localhost:8080/"
        },
        "id": "zN54F9lQ6LDp",
        "outputId": "aa0d53a3-b522-4813-a97c-6ca84bb93d47"
      },
      "execution_count": 28,
      "outputs": [
        {
          "output_type": "stream",
          "name": "stdout",
          "text": [
            "+-----+--------------------+---------+--------------------+--------------------+\n",
            "|  cid|          review_str|id_review|        review_token|       wo_stop_words|\n",
            "+-----+--------------------+---------+--------------------+--------------------+\n",
            "|13756|Once again Mr. Co...|        1|[once, again, mr....|[mr., costner, dr...|\n",
            "|15738|This is an exampl...|        2|[this, is, an, ex...|[example, majorit...|\n",
            "|15727|First of all I ha...|        3|[first, of, all, ...|[first, hate, mor...|\n",
            "|17954|Not even the Beat...|        4|[not, even, the, ...|[even, beatles, w...|\n",
            "|16579|Brass pictures (m...|        5|[brass, pictures,...|[brass, pictures,...|\n",
            "+-----+--------------------+---------+--------------------+--------------------+\n",
            "only showing top 5 rows\n",
            "\n"
          ]
        }
      ]
    },
    {
      "cell_type": "code",
      "source": [
        "#Look for data that contain the word  “good”, consider the review as positive, and name it as positive_review.\n",
        "booleanDF = listWOStopRemoved.withColumn('positive_review', array_contains(col(\"wo_stop_words\"),\"good\"))\n",
        "booleanDF.show(5)"
      ],
      "metadata": {
        "colab": {
          "base_uri": "https://localhost:8080/"
        },
        "outputId": "8552c0c7-1cac-45f6-9090-0953a8b31bf6",
        "id": "bBSmXMGiLbqz"
      },
      "execution_count": 21,
      "outputs": [
        {
          "output_type": "stream",
          "name": "stdout",
          "text": [
            "+-----+--------------------+---------+--------------------+--------------------+---------------+\n",
            "|  cid|          review_str|id_review|        review_token|       wo_stop_words|positive_review|\n",
            "+-----+--------------------+---------+--------------------+--------------------+---------------+\n",
            "|13756|Once again Mr. Co...|        1|[once, again, mr....|[mr., costner, dr...|          false|\n",
            "|15738|This is an exampl...|        2|[this, is, an, ex...|[example, majorit...|          false|\n",
            "|15727|First of all I ha...|        3|[first, of, all, ...|[first, hate, mor...|          false|\n",
            "|17954|Not even the Beat...|        4|[not, even, the, ...|[even, beatles, w...|          false|\n",
            "|16579|Brass pictures (m...|        5|[brass, pictures,...|[brass, pictures,...|           true|\n",
            "+-----+--------------------+---------+--------------------+--------------------+---------------+\n",
            "only showing top 5 rows\n",
            "\n"
          ]
        }
      ]
    },
    {
      "cell_type": "code",
      "source": [
        "#Add a timestamp when the job is running as the insert_date column\n",
        "dfTimestamp= booleanDF.withColumn('insert_date', lit(current_timestamp()))\n",
        "dfTimestamp.show(5)"
      ],
      "metadata": {
        "colab": {
          "base_uri": "https://localhost:8080/"
        },
        "id": "wG9-kkSbXyOH",
        "outputId": "29ddba09-b2df-4bf4-c0b1-6dcc4962d218"
      },
      "execution_count": 22,
      "outputs": [
        {
          "output_type": "stream",
          "name": "stdout",
          "text": [
            "+-----+--------------------+---------+--------------------+--------------------+---------------+--------------------+\n",
            "|  cid|          review_str|id_review|        review_token|       wo_stop_words|positive_review|         insert_date|\n",
            "+-----+--------------------+---------+--------------------+--------------------+---------------+--------------------+\n",
            "|13756|Once again Mr. Co...|        1|[once, again, mr....|[mr., costner, dr...|          false|2022-07-24 23:16:...|\n",
            "|15738|This is an exampl...|        2|[this, is, an, ex...|[example, majorit...|          false|2022-07-24 23:16:...|\n",
            "|15727|First of all I ha...|        3|[first, of, all, ...|[first, hate, mor...|          false|2022-07-24 23:16:...|\n",
            "|17954|Not even the Beat...|        4|[not, even, the, ...|[even, beatles, w...|          false|2022-07-24 23:16:...|\n",
            "|16579|Brass pictures (m...|        5|[brass, pictures,...|[brass, pictures,...|           true|2022-07-24 23:16:...|\n",
            "+-----+--------------------+---------+--------------------+--------------------+---------------+--------------------+\n",
            "only showing top 5 rows\n",
            "\n"
          ]
        }
      ]
    },
    {
      "cell_type": "code",
      "source": [
        "#Use the following logic to convert a boolean column to an integer: \n",
        "#reviews.positive_review = CASE\n",
        " #  \t\tWHEN positive_review IS True THEN 1\n",
        " #  \t\tELSE 0\n",
        " # \t\t  END\n",
        "isPositiveDF = dfTimestamp.withColumn('is_possitive', when(dfTimestamp.positive_review=='true', 1).when(dfTimestamp.positive_review=='false',0))\n",
        "isPositiveDF.show(5)"
      ],
      "metadata": {
        "colab": {
          "base_uri": "https://localhost:8080/"
        },
        "id": "l2rNR3pNdf-e",
        "outputId": "1dcd4141-abb6-4efb-ef1a-9ef161233157"
      },
      "execution_count": 23,
      "outputs": [
        {
          "output_type": "stream",
          "name": "stdout",
          "text": [
            "+-----+--------------------+---------+--------------------+--------------------+---------------+--------------------+------------+\n",
            "|  cid|          review_str|id_review|        review_token|       wo_stop_words|positive_review|         insert_date|is_possitive|\n",
            "+-----+--------------------+---------+--------------------+--------------------+---------------+--------------------+------------+\n",
            "|13756|Once again Mr. Co...|        1|[once, again, mr....|[mr., costner, dr...|          false|2022-07-24 23:16:...|           0|\n",
            "|15738|This is an exampl...|        2|[this, is, an, ex...|[example, majorit...|          false|2022-07-24 23:16:...|           0|\n",
            "|15727|First of all I ha...|        3|[first, of, all, ...|[first, hate, mor...|          false|2022-07-24 23:16:...|           0|\n",
            "|17954|Not even the Beat...|        4|[not, even, the, ...|[even, beatles, w...|          false|2022-07-24 23:16:...|           0|\n",
            "|16579|Brass pictures (m...|        5|[brass, pictures,...|[brass, pictures,...|           true|2022-07-24 23:16:...|           1|\n",
            "+-----+--------------------+---------+--------------------+--------------------+---------------+--------------------+------------+\n",
            "only showing top 5 rows\n",
            "\n"
          ]
        }
      ]
    },
    {
      "cell_type": "code",
      "source": [
        "#Store your results into a new file in the STAGE area (user_id(cid), positive_review(is_possitive) and review_id).\n",
        "dropColumnsDF = isPositiveDF.drop('review_str').drop('review_token').drop('wo_stop_words').drop('insert_date').drop('positive_review')\n",
        "classified_movie_review = dropColumnsDF.withColumnRenamed('cid', 'customer_id').withColumnRenamed('is_positive','positive_review').withColumnRenamed('id_review', 'review_id')\n",
        "classified_movie_review.show(5)"
      ],
      "metadata": {
        "colab": {
          "base_uri": "https://localhost:8080/"
        },
        "id": "DWQXCLs6eVNk",
        "outputId": "3c0b952f-214c-47c2-bb1a-8fbc249c3baa"
      },
      "execution_count": 26,
      "outputs": [
        {
          "output_type": "stream",
          "name": "stdout",
          "text": [
            "+-----------+---------+------------+\n",
            "|customer_id|review_id|is_possitive|\n",
            "+-----------+---------+------------+\n",
            "|      13756|        1|           0|\n",
            "|      15738|        2|           0|\n",
            "|      15727|        3|           0|\n",
            "|      17954|        4|           0|\n",
            "|      16579|        5|           1|\n",
            "|      14841|        6|           0|\n",
            "|      18085|        7|           0|\n",
            "|      16365|        8|           1|\n",
            "|      17912|        9|           0|\n",
            "|      15100|       10|           0|\n",
            "|      16781|       11|           0|\n",
            "|      16656|       12|           1|\n",
            "|      14390|       13|           1|\n",
            "|      17975|       14|           0|\n",
            "|      17616|       15|           0|\n",
            "|      14589|       16|           0|\n",
            "|      17629|       17|           0|\n",
            "|      13089|       18|           0|\n",
            "|      16752|       19|           1|\n",
            "|      13579|       20|           0|\n",
            "+-----------+---------+------------+\n",
            "only showing top 20 rows\n",
            "\n"
          ]
        }
      ]
    },
    {
      "cell_type": "code",
      "source": [
        "#save dataframe as CSV file\n",
        "classified_movie_review.write.option(\"header\",\"true\").parquet(\"s3://manual-bucket-megc/stage-data/classified_movie_review.parquet\")\n"
      ],
      "metadata": {
        "id": "3xFJ75LL-C7h"
      },
      "execution_count": null,
      "outputs": []
    }
  ]
}