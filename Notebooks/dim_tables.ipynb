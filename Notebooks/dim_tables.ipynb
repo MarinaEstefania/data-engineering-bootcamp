{
  "nbformat": 4,
  "nbformat_minor": 0,
  "metadata": {
    "colab": {
      "name": "dim_tables.ipynb",
      "provenance": [],
      "authorship_tag": "ABX9TyOOHp2nPbuN64YhvBcIWAm2",
      "include_colab_link": true
    },
    "kernelspec": {
      "name": "python3",
      "display_name": "Python 3"
    },
    "language_info": {
      "name": "python"
    }
  },
  "cells": [
    {
      "cell_type": "markdown",
      "metadata": {
        "id": "view-in-github",
        "colab_type": "text"
      },
      "source": [
        "<a href=\"https://colab.research.google.com/github/MarinaEstefania/data-engineering-bootcamp/blob/main/Notebooks/dim_tables.ipynb\" target=\"_parent\"><img src=\"https://colab.research.google.com/assets/colab-badge.svg\" alt=\"Open In Colab\"/></a>"
      ]
    },
    {
      "cell_type": "code",
      "execution_count": 1,
      "metadata": {
        "id": "MIfYEr_y1t-f"
      },
      "outputs": [],
      "source": [
        "%%capture\n",
        "!sudo apt update\n",
        "!apt-get install openjdk-8-jdk-headless -qq > /dev/null\n",
        "!wget -q https://dlcdn.apache.org/spark/spark-3.2.2/spark-3.2.2-bin-hadoop3.2.tgz\n",
        "!tar xf spark-3.2.2-bin-hadoop3.2.tgz\n",
        "!pip install -q findspark\n",
        "!pip install pyspark\n",
        "\n",
        "import os\n",
        "os.environ[\"JAVA_HOME\"] = \"/usr/lib/jvm/java-8-openjdk-amd64\"\n",
        "os.environ[\"SPARK_HOME\"] = \"/content/spark-3.2.2-bin-hadoop3.2\"\n",
        "\n",
        "import findspark\n",
        "findspark.init()\n",
        "findspark.find()\n",
        "\n",
        "from pyspark.sql import DataFrame, SparkSession, Window\n",
        "from pyspark.sql.types import StructType,StructField, StringType, IntegerType\n",
        "from pyspark.sql.functions import *\n",
        "from pyspark.sql.window import *\n",
        "\n",
        "spark = SparkSession \\\n",
        "       .builder \\\n",
        "       .appName(\"review_logs\") \\\n",
        "       .config('spark.jars.packages', 'com.databricks:spark-xml_2.12:0.15.0')\\\n",
        "       .getOrCreate()\n",
        "\n",
        "spark"
      ]
    },
    {
      "cell_type": "code",
      "source": [
        "#Extract data\n",
        "df = spark.read.parquet(\"sample_data/part-00000-c3039b56-7ffc-4dae-b3da-aaa9da7784c8-c000.snappy.parquet\")\n",
        "df.show()"
      ],
      "metadata": {
        "colab": {
          "base_uri": "https://localhost:8080/"
        },
        "id": "Bpexo-242YLT",
        "outputId": "2530a687-2c5b-40f7-8969-f99e9323e1c2"
      },
      "execution_count": 8,
      "outputs": [
        {
          "output_type": "stream",
          "name": "stdout",
          "text": [
            "+----------+--------+-------------+-----------------+------------+------------+--------------+------+\n",
            "|  log_date|  device|     location|               os|          ip|phone_number|       browser|log_id|\n",
            "+----------+--------+-------------+-----------------+------------+------------+--------------+------+\n",
            "|04-25-2021|  Mobile|       Kansas|        Apple iOS|9.200.232.57|821-540-5777|        Safari|     1|\n",
            "|03-13-2021|  Tablet|       Oregon|   Google Android|9.200.232.57|819-102-1320| Google Chrome|     2|\n",
            "|09-30-2021|  Tablet|    Minnesota|        Apple iOS|9.200.232.57|989-156-0498|        Safari|     3|\n",
            "|05-24-2021|  Tablet|     Arkansas|      Apple MacOS|9.200.232.57|225-837-9935|        Safari|     4|\n",
            "|02-01-2021|  Tablet|New Hampshire|            Linux|9.200.232.57|243-842-4562|       Firefox|     5|\n",
            "|07-23-2021|  Tablet|  Pensylvania|        Apple iOS|9.200.232.57|694-501-4352|        Safari|     6|\n",
            "|10-13-2021|Computer|     New York|      Apple MacOS|9.200.232.57|430-449-7136|        Safari|     7|\n",
            "|09-18-2021|Computer|   California|Microsoft Windows|9.200.232.57|633-661-7714|Microsoft Edge|     8|\n",
            "|05-08-2021|  Tablet|   Washington|      Apple MacOS|9.200.232.57|450-036-0504|        Safari|     9|\n",
            "|03-04-2021|  Tablet|     Lousiana|            Linux|9.200.232.57|738-536-6776|       Firefox|    10|\n",
            "|06-19-2021|Computer|    Minnesota|   Google Android|9.200.232.57|682-519-9021| Google Chrome|    11|\n",
            "|03-23-2021|  Mobile|     Arkansas|   Google Android|9.200.232.57|678-722-6084| Google Chrome|    12|\n",
            "|04-08-2021|  Mobile|  Pensylvania|            Linux|9.200.232.57|781-850-8167|       Firefox|    13|\n",
            "|06-29-2021|  Mobile|     Lousiana|Microsoft Windows|9.200.232.57|208-216-2106|Microsoft Edge|    14|\n",
            "|10-20-2021|Computer|        Idaho|            Linux|9.200.232.57|693-854-2646|       Firefox|    15|\n",
            "|06-03-2021|  Mobile|      Montana|            Linux|9.200.232.57|805-540-1405|       Firefox|    16|\n",
            "|05-27-2021|  Tablet|     Nebraska|      Apple MacOS|9.200.232.57|896-134-1623|        Safari|    17|\n",
            "|04-01-2021|  Tablet|      Alabama|      Apple MacOS|9.200.232.57|850-716-4779|        Safari|    18|\n",
            "|06-12-2021|  Tablet|     Missouri|   Google Android|9.200.232.57|946-565-9757| Google Chrome|    19|\n",
            "|05-09-2021|Computer| Rhode Island|   Google Android|9.200.232.57|938-623-1577| Google Chrome|    20|\n",
            "+----------+--------+-------------+-----------------+------------+------------+--------------+------+\n",
            "only showing top 20 rows\n",
            "\n"
          ]
        }
      ]
    },
    {
      "cell_type": "code",
      "source": [
        "#Transform data (create dim dataframes)\n",
        "dim_devices = df.select(df.device).drop_duplicates()\n",
        "dim_devices.show()\n",
        "\n",
        "dim_location = df.select(df.location).drop_duplicates()\n",
        "dim_location.show()\n",
        "\n",
        "dim_os = df.select(df.os).drop_duplicates()\n",
        "dim_os.show()\n",
        "\n",
        "dim_browser = df.select(df.browser).drop_duplicates()\n",
        "dim_browser.show()\n",
        "\n",
        "dim_date = df.select(df.log_id, df.log_date)\n",
        "dim_date = dim_date.withColumn('day', split(col('log_date'),'-').getItem(1)) \\\n",
        "  .withColumn('month', split(col('log_date'),'-').getItem(0)) \\\n",
        "  .withColumn('year', split(col('log_date'),'-').getItem(2)) \\\n",
        "  .withColumn('season', lit('under construction...'))\n",
        "dim_date.show(5)"
      ],
      "metadata": {
        "colab": {
          "base_uri": "https://localhost:8080/"
        },
        "id": "ltFido3I3-UQ",
        "outputId": "f322bb76-dc50-4844-b7e6-cfd7627a2ebd"
      },
      "execution_count": 9,
      "outputs": [
        {
          "output_type": "stream",
          "name": "stdout",
          "text": [
            "+--------+\n",
            "|  device|\n",
            "+--------+\n",
            "|Computer|\n",
            "|  Mobile|\n",
            "|  Tablet|\n",
            "+--------+\n",
            "\n",
            "+-------------+\n",
            "|     location|\n",
            "+-------------+\n",
            "|         Utah|\n",
            "|       Hawaii|\n",
            "|    Minnesota|\n",
            "|         Ohio|\n",
            "|       Oregon|\n",
            "|     Arkansas|\n",
            "|        Texas|\n",
            "| North Dakota|\n",
            "|  Connecticut|\n",
            "|     Nebraska|\n",
            "|      Vermont|\n",
            "|       Nevada|\n",
            "|   Washington|\n",
            "|     Illinois|\n",
            "|     Oklahoma|\n",
            "|     Delaware|\n",
            "|       Alaska|\n",
            "|   New Mexico|\n",
            "|West Virginia|\n",
            "|     Missouri|\n",
            "+-------------+\n",
            "only showing top 20 rows\n",
            "\n",
            "+-----------------+\n",
            "|               os|\n",
            "+-----------------+\n",
            "|Microsoft Windows|\n",
            "|            Linux|\n",
            "|        Apple iOS|\n",
            "|      Apple MacOS|\n",
            "|   Google Android|\n",
            "+-----------------+\n",
            "\n",
            "+--------------+\n",
            "|       browser|\n",
            "+--------------+\n",
            "|Microsoft Edge|\n",
            "|       Firefox|\n",
            "|        Safari|\n",
            "| Google Chrome|\n",
            "+--------------+\n",
            "\n",
            "+------+----------+---+-----+----+--------------------+\n",
            "|log_id|  log_date|day|month|year|              season|\n",
            "+------+----------+---+-----+----+--------------------+\n",
            "|     1|04-25-2021| 25|   04|2021|under constructio...|\n",
            "|     2|03-13-2021| 13|   03|2021|under constructio...|\n",
            "|     3|09-30-2021| 30|   09|2021|under constructio...|\n",
            "|     4|05-24-2021| 24|   05|2021|under constructio...|\n",
            "|     5|02-01-2021| 01|   02|2021|under constructio...|\n",
            "+------+----------+---+-----+----+--------------------+\n",
            "only showing top 5 rows\n",
            "\n"
          ]
        }
      ]
    },
    {
      "cell_type": "code",
      "source": [
        "#Load data\n",
        "dim_devices.write.option(\"header\", \"true\").csv(\"s3://manual-bucket-megc/gold-data/dim_devices/\")\n",
        "dim_location.write.option(\"header\", \"true\").csv(\"s3://manual-bucket-megc/gold-data/dim_location/\")\n",
        "dim_os.write.option(\"header\", \"true\").csv(\"s3://manual-bucket-megc/gold-data/dim_os/\")\n",
        "dim_browser.write.option(\"header\", \"true\").csv(\"s3://manual-bucket-megc/gold-data/dim_browser/\")\n",
        "dim_date.write.option(\"header\", \"true\").csv(\"s3://manual-bucket-megc/gold-data/dim_date/\")\n",
        "#fact_movie_analytics.write.option(\"header\", \"true\").csv(\"s3://manual-bucket-megc/gold-data/dim_devices/\")\n",
        "\n"
      ],
      "metadata": {
        "id": "L_8MM1MQ4wPa"
      },
      "execution_count": null,
      "outputs": []
    }
  ]
}