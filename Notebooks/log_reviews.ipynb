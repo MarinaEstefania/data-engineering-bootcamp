{
  "nbformat": 4,
  "nbformat_minor": 0,
  "metadata": {
    "colab": {
      "name": "log_reviews.ipynb",
      "provenance": [],
      "authorship_tag": "ABX9TyONoOmElKTC9c+RiEKhba9W",
      "include_colab_link": true
    },
    "kernelspec": {
      "name": "python3",
      "display_name": "Python 3"
    },
    "language_info": {
      "name": "python"
    }
  },
  "cells": [
    {
      "cell_type": "markdown",
      "metadata": {
        "id": "view-in-github",
        "colab_type": "text"
      },
      "source": [
        "<a href=\"https://colab.research.google.com/github/MarinaEstefania/data-engineering-bootcamp/blob/main/Notebooks/log_reviews.ipynb\" target=\"_parent\"><img src=\"https://colab.research.google.com/assets/colab-badge.svg\" alt=\"Open In Colab\"/></a>"
      ]
    },
    {
      "cell_type": "code",
      "execution_count": null,
      "metadata": {
        "id": "cgHeQ-Dp2Vkv"
      },
      "outputs": [],
      "source": [
        "%%capture\n",
        "!sudo apt update\n",
        "!apt-get install openjdk-8-jdk-headless -qq > /dev/null\n",
        "!wget -q https://dlcdn.apache.org/spark/spark-3.2.2/spark-3.2.2-bin-hadoop3.2.tgz\n",
        "!tar xf spark-3.2.2-bin-hadoop3.2.tgz\n",
        "!pip install -q findspark\n",
        "!pip install pyspark\n",
        "\n",
        "import os\n",
        "os.environ[\"JAVA_HOME\"] = \"/usr/lib/jvm/java-8-openjdk-amd64\"\n",
        "os.environ[\"SPARK_HOME\"] = \"/content/spark-3.2.2-bin-hadoop3.2\"\n",
        "\n",
        "import findspark\n",
        "findspark.init()\n",
        "findspark.find()\n",
        "\n",
        "from pyspark.sql import DataFrame, SparkSession, Window\n",
        "from pyspark.sql.types import StructType,StructField, StringType, IntegerType\n",
        "from pyspark.sql.functions import *\n",
        "from pyspark.sql.window import *\n",
        "\n",
        "spark = SparkSession \\\n",
        "       .builder \\\n",
        "       .appName(\"review_logs\") \\\n",
        "       .config('spark.jars.packages', 'com.databricks:spark-xml_2.12:0.15.0')\\\n",
        "       .getOrCreate()\n",
        "\n",
        "spark"
      ]
    },
    {
      "cell_type": "code",
      "source": [
        "#For the log_reviews.csv file:\n",
        "#Map the structure for the DataFrame schema according to the log_review column that contains the xml as a string.\n",
        "schemaLog = StructType([ \\\n",
        "    StructField(\"log_id\",StringType(),True), \\\n",
        "    StructField(\"logDate\",StringType(),True), \\\n",
        "    StructField(\"device\",StringType(),True), \\\n",
        "    StructField(\"location\", StringType(), True), \\\n",
        "    StructField(\"os\", StringType(), True), \\\n",
        "    StructField(\"ipAddress\", StringType(), True), \\\n",
        "    StructField(\"phoneNumber\", StringType(), True) \\\n",
        "  ])\n",
        "\n",
        "#Work with the log  column to get all the metadata and build your columns for your  DataFrame.\n",
        "df = spark.read.format(\"xml\").option(\"rootTag\", \"reviewlog\").option(\"rowTag\", \"log\").load(\"sample_data/log_reviews.csv\", schema=schemaLog)\n",
        "#df.show(5)\n",
        "\n",
        "#Don’t forget to drop the log column by the end\n",
        "dropLogIdDF = df.drop(\"log_id\")\n",
        "#dropLogIdDF.show(5)\n",
        "\n",
        "\n"
      ],
      "metadata": {
        "id": "lvDUZeyYhbb7"
      },
      "execution_count": null,
      "outputs": []
    },
    {
      "cell_type": "code",
      "source": [
        "#Store your results into a new file in the STAGE area (log_id, log_date, device, os, location, browser, ip, phone_number)\n",
        "#find os list\n",
        "osValues = dropLogIdDF.select(\"os\").dropDuplicates()\n",
        "#osValues.show()\n",
        "\n",
        "#add browser column  \n",
        "withBrowserDF = dropLogIdDF.withColumn(\"browser\", when(dropLogIdDF.os==\"Apple iOS\", \"Safari\") \\\n",
        "                                       .when(dropLogIdDF.os==\"Apple MacOS\", \"Safari\") \\\n",
        "                                       .when(dropLogIdDF.os==\"Microsoft Windows\", \"Microsoft Edge\") \\\n",
        "                                       .when(dropLogIdDF.os==\"Linux\", \"Firefox\") \\\n",
        "                                       .when(dropLogIdDF.os==\"Google Android\", \"Google Chrome\") \\\n",
        "                                       .when(dropLogIdDF.os==\"Linux\", \"Firefox\"))\n",
        "#withBrowserDF.show(10)\n",
        "\n",
        "#Rename columns\n",
        "renameColsDF = withBrowserDF.withColumnRenamed(\"logDate\",\"log_date\").withColumnRenamed(\"ipAddress\",\"ip\").withColumnRenamed(\"phoneNumber\",\"phone_number\")\n",
        "#renameColsDF.show(5)\n",
        "\n",
        "#add log_id column\n",
        "withIncreasingIDDF = renameColsDF.withColumn(\"monotonically_increasing_id\", monotonically_increasing_id())\n",
        "window = Window.orderBy(col('monotonically_increasing_id'))\n",
        "reviewLogdDF = withIncreasingIDDF.withColumn('log_id', row_number().over(window)).drop('monotonically_increasing_id')\n",
        "reviewLogdDF.show(10)\n",
        "\n"
      ],
      "metadata": {
        "colab": {
          "base_uri": "https://localhost:8080/"
        },
        "id": "_CpG_fFTVHaF",
        "outputId": "6f5bd929-91be-48eb-820f-df080ab34ac3"
      },
      "execution_count": null,
      "outputs": [
        {
          "output_type": "stream",
          "name": "stdout",
          "text": [
            "+----------+--------+-------------+-----------------+------------+------------+--------------+------+\n",
            "|  log_date|  device|     location|               os|          ip|phone_number|       browser|log_id|\n",
            "+----------+--------+-------------+-----------------+------------+------------+--------------+------+\n",
            "|04-25-2021|  Mobile|       Kansas|        Apple iOS|9.200.232.57|821-540-5777|        Safari|     1|\n",
            "|03-13-2021|  Tablet|       Oregon|   Google Android|9.200.232.57|819-102-1320| Google Chrome|     2|\n",
            "|09-30-2021|  Tablet|    Minnesota|        Apple iOS|9.200.232.57|989-156-0498|        Safari|     3|\n",
            "|05-24-2021|  Tablet|     Arkansas|      Apple MacOS|9.200.232.57|225-837-9935|        Safari|     4|\n",
            "|02-01-2021|  Tablet|New Hampshire|            Linux|9.200.232.57|243-842-4562|       Firefox|     5|\n",
            "|07-23-2021|  Tablet|  Pensylvania|        Apple iOS|9.200.232.57|694-501-4352|        Safari|     6|\n",
            "|10-13-2021|Computer|     New York|      Apple MacOS|9.200.232.57|430-449-7136|        Safari|     7|\n",
            "|09-18-2021|Computer|   California|Microsoft Windows|9.200.232.57|633-661-7714|Microsoft Edge|     8|\n",
            "|05-08-2021|  Tablet|   Washington|      Apple MacOS|9.200.232.57|450-036-0504|        Safari|     9|\n",
            "|03-04-2021|  Tablet|     Lousiana|            Linux|9.200.232.57|738-536-6776|       Firefox|    10|\n",
            "+----------+--------+-------------+-----------------+------------+------------+--------------+------+\n",
            "only showing top 10 rows\n",
            "\n"
          ]
        }
      ]
    },
    {
      "cell_type": "code",
      "source": [
        "\n",
        "#Load results\n",
        "reviewLogdDF.write.option(\"header\",\"true\").parquet(\"s3://manual-bucket-megc/stage-data/review_logs.parquet\")"
      ],
      "metadata": {
        "id": "h9GPeYlzwFO3"
      },
      "execution_count": null,
      "outputs": []
    },
    {
      "cell_type": "markdown",
      "source": [
        "# Nueva sección"
      ],
      "metadata": {
        "id": "su1Q33ohXy0T"
      }
    }
  ]
}